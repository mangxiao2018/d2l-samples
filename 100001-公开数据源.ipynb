{
 "cells": [
  {
   "cell_type": "markdown",
   "metadata": {},
   "source": [
    "# 公开数据源"
   ]
  },
  {
   "cell_type": "markdown",
   "metadata": {},
   "source": [
    "| 年代\t   | 数据样本个数\t          | 内存\t      | 每秒浮点计算数 |\n",
    "| --- | --- | --- |---|\n",
    "| 1970\t    | 102 （Iris）\t       | 1 KB\t    | 100 K（Intel 8080） |\n",
    "| 1980\t    | 103 （波士顿房价）\t   | 100 KB\t    | 1 M（Intel 80186） |\n",
    "| 1990\t    | 104 （手写字符识别）\t  | 10 MB\t   | 10 M（Intel 80486）|\n",
    "| 2000\t    | 107 （网页）\t         | 100 MB\t   | 1 G（Intel Core）|\n",
    "| 2010\t    | 1010 （广告）\t         | 1 GB\t       | 1 T（NVIDIA C2050）|\n",
    "| 2020\t    | 1012 （社交网络）\t   | 100 GB\t     | 1 P（NVIDIA DGX-2）|"
   ]
  },
  {
   "cell_type": "code",
   "execution_count": null,
   "metadata": {},
   "outputs": [],
   "source": []
  }
 ],
 "metadata": {
  "kernelspec": {
   "display_name": "Python 3",
   "language": "python",
   "name": "python3"
  },
  "language_info": {
   "codemirror_mode": {
    "name": "ipython",
    "version": 3
   },
   "file_extension": ".py",
   "mimetype": "text/x-python",
   "name": "python",
   "nbconvert_exporter": "python",
   "pygments_lexer": "ipython3",
   "version": "3.7.7"
  }
 },
 "nbformat": 4,
 "nbformat_minor": 4
}
